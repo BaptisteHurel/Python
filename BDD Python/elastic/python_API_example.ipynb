{
 "cells": [
  {
   "cell_type": "markdown",
   "metadata": {},
   "source": [
    "# Elasticsearch python API overview "
   ]
  },
  {
   "cell_type": "code",
   "execution_count": 6,
   "metadata": {
    "scrolled": false
   },
   "outputs": [
    {
     "ename": "ModuleNotFoundError",
     "evalue": "No module named 'elasticsearch'",
     "output_type": "error",
     "traceback": [
      "\u001b[0;31m---------------------------------------------------------------------------\u001b[0m",
      "\u001b[0;31mModuleNotFoundError\u001b[0m                       Traceback (most recent call last)",
      "\u001b[0;32m<ipython-input-6-2eddc1acc563>\u001b[0m in \u001b[0;36m<module>\u001b[0;34m\u001b[0m\n\u001b[1;32m      1\u001b[0m \u001b[0;32mimport\u001b[0m \u001b[0mwarnings\u001b[0m\u001b[0;34m\u001b[0m\u001b[0;34m\u001b[0m\u001b[0m\n\u001b[0;32m----> 2\u001b[0;31m \u001b[0;32mfrom\u001b[0m \u001b[0melasticsearch\u001b[0m \u001b[0;32mimport\u001b[0m \u001b[0mElasticsearch\u001b[0m\u001b[0;34m,\u001b[0m \u001b[0mRequestsHttpConnection\u001b[0m\u001b[0;34m\u001b[0m\u001b[0;34m\u001b[0m\u001b[0m\n\u001b[0m\u001b[1;32m      3\u001b[0m \u001b[0mwarnings\u001b[0m\u001b[0;34m.\u001b[0m\u001b[0mfilterwarnings\u001b[0m\u001b[0;34m(\u001b[0m\u001b[0;34m'ignore'\u001b[0m\u001b[0;34m)\u001b[0m\u001b[0;34m\u001b[0m\u001b[0;34m\u001b[0m\u001b[0m\n",
      "\u001b[0;31mModuleNotFoundError\u001b[0m: No module named 'elasticsearch'"
     ]
    }
   ],
   "source": [
    "import warnings\n",
    "from elasticsearch import Elasticsearch, RequestsHttpConnection\n",
    "warnings.filterwarnings('ignore')"
   ]
  },
  {
   "cell_type": "markdown",
   "metadata": {},
   "source": [
    "## Avant de commencer \n",
    "\n",
    "### Lancer elasticsearch avec docker \n",
    "\n",
    "Pour ce faire, on va run un cluster elastic dans un container. Si vous n'avez pas deja l'image elastic dans votre registery local il faut la pull du hub avec la commande suivante: \n",
    "\n",
    "```\n",
    "docker pull docker.elastic.co/elasticsearch/elasticsearch:7.11.1\n",
    "```\n",
    "\n",
    "puis on run le container sur le port 9200 tel que: \n",
    "\n",
    "```\n",
    "docker run -p 9200:9200 -p 9300:9300 -e \"discovery.type=single-node\" docker.elastic.co/elasticsearch/elasticsearch:7.11.1\n",
    "```\n",
    "\n",
    "### Lancer elasticsearch avec docker-compose \n",
    "\n",
    "On peut aussi lancer plusieurs noeud au sein d'un meme cluster avec docker-compose  tel que \n",
    "\n",
    "```Dockerfile \n",
    "version: '2.2'\n",
    "services:\n",
    "  es01:\n",
    "    image: docker.elastic.co/elasticsearch/elasticsearch:7.11.1\n",
    "    container_name: es01\n",
    "    environment:\n",
    "      - node.name=es01\n",
    "      - cluster.name=es-docker-cluster\n",
    "      - discovery.seed_hosts=es02,es03\n",
    "      - cluster.initial_master_nodes=es01,es02,es03\n",
    "      - bootstrap.memory_lock=true\n",
    "      - \"ES_JAVA_OPTS=-Xms512m -Xmx512m\"\n",
    "    ulimits:\n",
    "      memlock:\n",
    "        soft: -1\n",
    "        hard: -1\n",
    "    volumes:\n",
    "      - data01:/usr/share/elasticsearch/data\n",
    "    ports:\n",
    "      - 9200:9200\n",
    "    networks:\n",
    "      - elastic\n",
    "  es02:\n",
    "    image: docker.elastic.co/elasticsearch/elasticsearch:7.11.1\n",
    "    container_name: es02\n",
    "    environment:\n",
    "      - node.name=es02\n",
    "      - cluster.name=es-docker-cluster\n",
    "      - discovery.seed_hosts=es01,es03\n",
    "      - cluster.initial_master_nodes=es01,es02,es03\n",
    "      - bootstrap.memory_lock=true\n",
    "      - \"ES_JAVA_OPTS=-Xms512m -Xmx512m\"\n",
    "    ulimits:\n",
    "      memlock:\n",
    "        soft: -1\n",
    "        hard: -1\n",
    "    volumes:\n",
    "      - data02:/usr/share/elasticsearch/data\n",
    "    networks:\n",
    "      - elastic\n",
    "  es03:\n",
    "    image: docker.elastic.co/elasticsearch/elasticsearch:7.11.1\n",
    "    container_name: es03\n",
    "    environment:\n",
    "      - node.name=es03\n",
    "      - cluster.name=es-docker-cluster\n",
    "      - discovery.seed_hosts=es01,es02\n",
    "      - cluster.initial_master_nodes=es01,es02,es03\n",
    "      - bootstrap.memory_lock=true\n",
    "      - \"ES_JAVA_OPTS=-Xms512m -Xmx512m\"\n",
    "    ulimits:\n",
    "      memlock:\n",
    "        soft: -1\n",
    "        hard: -1\n",
    "    volumes:\n",
    "      - data03:/usr/share/elasticsearch/data\n",
    "    networks:\n",
    "      - elastic\n",
    "\n",
    "volumes:\n",
    "  data01:\n",
    "    driver: local\n",
    "  data02:\n",
    "    driver: local\n",
    "  data03:\n",
    "    driver: local\n",
    "\n",
    "networks:\n",
    "  elastic:\n",
    "    driver: bridge\n",
    "```\n",
    "\n",
    "Plus d'info sur le doc [ici](https://www.elastic.co/guide/en/elasticsearch/reference/current/docker.html)\n",
    "\n",
    "#### 🚧Attention à votre configuration Docker 🚧\n",
    "Elastic demande beaucoup de ressource à votre docker (et donc à votre machine) il faut avoir au moins configurer 4GB de memoire que Docker peut utiliser. Vous pouvez aussi changer directement la configuration de la JVM des container avec le paramètre `ES_JAVA_OPTS=-Xms512m -Xmx512m` et le passer à `256m` ou bien `128m`. \n",
    "\n",
    "\n",
    "### 📟 Exercice [optionnel]\n",
    "\n",
    "**Ecrire un fichier `docker-compose.yml` avec un service Elasticsearch sur le port 9200 (un seul noeud) et un service Kibana sur le port 5601 ainsi qu'un network elnet**"
   ]
  },
  {
   "cell_type": "markdown",
   "metadata": {},
   "source": [
    "## Ping du container "
   ]
  },
  {
   "cell_type": "code",
   "execution_count": 7,
   "metadata": {
    "collapsed": true
   },
   "outputs": [
    {
     "name": "stdout",
     "output_type": "stream",
     "text": [
      "b'{\\n  \"name\" : \"b27c1228a0f6\",\\n  \"cluster_name\" : \"docker-cluster\",\\n  \"cluster_uuid\" : \"Tjv_n-8iS2CHRFro6PUv8w\",\\n  \"version\" : {\\n    \"number\" : \"7.11.1\",\\n    \"build_flavor\" : \"default\",\\n    \"build_type\" : \"docker\",\\n    \"build_hash\" : \"ff17057114c2199c9c1bbecc727003a907c0db7a\",\\n    \"build_date\" : \"2021-02-15T13:44:09.394032Z\",\\n    \"build_snapshot\" : false,\\n    \"lucene_version\" : \"8.7.0\",\\n    \"minimum_wire_compatibility_version\" : \"6.8.0\",\\n    \"minimum_index_compatibility_version\" : \"6.0.0-beta1\"\\n  },\\n  \"tagline\" : \"You Know, for Search\"\\n}\\n'\n"
     ]
    }
   ],
   "source": [
    "import requests\n",
    "res = requests.get('http://localhost:9200?pretty')\n",
    "print(res.content)"
   ]
  },
  {
   "cell_type": "code",
   "execution_count": 8,
   "metadata": {
    "collapsed": true
   },
   "outputs": [
    {
     "ename": "NameError",
     "evalue": "name 'Elasticsearch' is not defined",
     "output_type": "error",
     "traceback": [
      "\u001b[0;31m---------------------------------------------------------------------------\u001b[0m",
      "\u001b[0;31mNameError\u001b[0m                                 Traceback (most recent call last)",
      "\u001b[0;32m<ipython-input-8-8fcf71196799>\u001b[0m in \u001b[0;36m<module>\u001b[0;34m\u001b[0m\n\u001b[0;32m----> 1\u001b[0;31m \u001b[0mes\u001b[0m \u001b[0;34m=\u001b[0m \u001b[0mElasticsearch\u001b[0m\u001b[0;34m(\u001b[0m\u001b[0;34m'http://localhost:9200'\u001b[0m\u001b[0;34m)\u001b[0m\u001b[0;34m\u001b[0m\u001b[0;34m\u001b[0m\u001b[0m\n\u001b[0m",
      "\u001b[0;31mNameError\u001b[0m: name 'Elasticsearch' is not defined"
     ]
    }
   ],
   "source": [
    "es = Elasticsearch('http://localhost:9200')"
   ]
  },
  {
   "cell_type": "markdown",
   "metadata": {},
   "source": [
    "## Create, delete and verify index"
   ]
  },
  {
   "cell_type": "code",
   "execution_count": 11,
   "metadata": {},
   "outputs": [
    {
     "ename": "SyntaxError",
     "evalue": "invalid syntax (<ipython-input-11-15421abc84e2>, line 5)",
     "output_type": "error",
     "traceback": [
      "\u001b[0;36m  File \u001b[0;32m\"<ipython-input-11-15421abc84e2>\"\u001b[0;36m, line \u001b[0;32m5\u001b[0m\n\u001b[0;31m    print es.indices.exists(index=\"first_index\")\u001b[0m\n\u001b[0m           ^\u001b[0m\n\u001b[0;31mSyntaxError\u001b[0m\u001b[0;31m:\u001b[0m invalid syntax\n"
     ]
    }
   ],
   "source": [
    "#create\n",
    "es.indices.create(index=\"first_index\",ignore=400)\n",
    "\n",
    "#verify\n",
    "print es.indices.exists(index=\"first_index\")\n",
    "\n",
    "#delete\n",
    "print es.indices.delete(index=\"first_index\", ignore=[400,404])"
   ]
  },
  {
   "cell_type": "markdown",
   "metadata": {},
   "source": [
    "## Insert documents\n",
    "\n",
    "```python \n",
    "#documents to insert in the elasticsearch index \"cities\"\n",
    "doc1 = {\"city\":\"New Delhi\", \"country\":\"India\"}\n",
    "doc2 = {\"city\":\"London\", \"country\":\"England\"}\n",
    "doc3 = {\"city\":\"Los Angeles\", \"country\":\"USA\"}\n",
    "\n",
    "#Inserting doc1 in id=1\n",
    "es.index(index=\"cities\", doc_type=\"places\", id=1, body=doc1)\n",
    "\n",
    "#Inserting doc2 in id=2\n",
    "es.index(index=\"cities\", doc_type=\"places\", id=2, body=doc2)\n",
    "\n",
    "#Inserting doc3 in id=3\n",
    "es.index(index=\"cities\", doc_type=\"places\", id=3, body=doc3)\n",
    "\n",
    "```"
   ]
  },
  {
   "cell_type": "code",
   "execution_count": 9,
   "metadata": {
    "collapsed": true
   },
   "outputs": [
    {
     "ename": "NameError",
     "evalue": "name 'es' is not defined",
     "output_type": "error",
     "traceback": [
      "\u001b[0;31m---------------------------------------------------------------------------\u001b[0m",
      "\u001b[0;31mNameError\u001b[0m                                 Traceback (most recent call last)",
      "\u001b[0;32m<ipython-input-9-081a94dba555>\u001b[0m in \u001b[0;36m<module>\u001b[0;34m\u001b[0m\n\u001b[1;32m      5\u001b[0m \u001b[0;34m\u001b[0m\u001b[0m\n\u001b[1;32m      6\u001b[0m \u001b[0;31m#Inserting doc1 in id=1\u001b[0m\u001b[0;34m\u001b[0m\u001b[0;34m\u001b[0m\u001b[0;34m\u001b[0m\u001b[0m\n\u001b[0;32m----> 7\u001b[0;31m \u001b[0mes\u001b[0m\u001b[0;34m.\u001b[0m\u001b[0mindex\u001b[0m\u001b[0;34m(\u001b[0m\u001b[0mindex\u001b[0m\u001b[0;34m=\u001b[0m\u001b[0;34m\"cities\"\u001b[0m\u001b[0;34m,\u001b[0m \u001b[0mdoc_type\u001b[0m\u001b[0;34m=\u001b[0m\u001b[0;34m\"places\"\u001b[0m\u001b[0;34m,\u001b[0m \u001b[0mid\u001b[0m\u001b[0;34m=\u001b[0m\u001b[0;36m1\u001b[0m\u001b[0;34m,\u001b[0m \u001b[0mbody\u001b[0m\u001b[0;34m=\u001b[0m\u001b[0mdoc1\u001b[0m\u001b[0;34m)\u001b[0m\u001b[0;34m\u001b[0m\u001b[0;34m\u001b[0m\u001b[0m\n\u001b[0m\u001b[1;32m      8\u001b[0m \u001b[0;34m\u001b[0m\u001b[0m\n\u001b[1;32m      9\u001b[0m \u001b[0;31m#Inserting doc2 in id=2\u001b[0m\u001b[0;34m\u001b[0m\u001b[0;34m\u001b[0m\u001b[0;34m\u001b[0m\u001b[0m\n",
      "\u001b[0;31mNameError\u001b[0m: name 'es' is not defined"
     ]
    }
   ],
   "source": [
    "\n",
    "#documents to insert in the elasticsearch index \"cities\"\n",
    "doc1 = {\"city\":\"New Delhi\", \"country\":\"India\"}\n",
    "doc2 = {\"city\":\"London\", \"country\":\"England\"}\n",
    "doc3 = {\"city\":\"Los Angeles\", \"country\":\"USA\"}\n",
    "\n",
    "#Inserting doc1 in id=1\n",
    "es.index(index=\"cities\", doc_type=\"places\", id=1, body=doc1)\n",
    "\n",
    "#Inserting doc2 in id=2\n",
    "es.index(index=\"cities\", doc_type=\"places\", id=2, body=doc2)\n",
    "\n",
    "#Inserting doc3 in id=3\n",
    "es.index(index=\"cities\", doc_type=\"places\", id=3, body=doc3)\n",
    "\n"
   ]
  },
  {
   "cell_type": "markdown",
   "metadata": {},
   "source": [
    "### 📟 Exercice [optionnel]\n",
    "Trouver la fonction qui vérifie que votre index est bien crée.  "
   ]
  },
  {
   "cell_type": "code",
   "execution_count": 4,
   "metadata": {},
   "outputs": [
    {
     "data": {
      "text/plain": [
       "True"
      ]
     },
     "execution_count": 4,
     "metadata": {},
     "output_type": "execute_result"
    }
   ],
   "source": []
  },
  {
   "cell_type": "markdown",
   "metadata": {},
   "source": [
    "### Retrieve data with id : `get`"
   ]
  },
  {
   "cell_type": "code",
   "execution_count": 5,
   "metadata": {},
   "outputs": [
    {
     "data": {
      "text/plain": [
       "{'_id': '2',\n",
       " '_index': 'cities',\n",
       " '_primary_term': 1,\n",
       " '_seq_no': 1,\n",
       " '_source': {'city': 'London', 'country': 'England'},\n",
       " '_type': 'places',\n",
       " '_version': 1,\n",
       " 'found': True}"
      ]
     },
     "execution_count": 5,
     "metadata": {},
     "output_type": "execute_result"
    }
   ],
   "source": [
    "res = es.get(index=\"cities\", doc_type=\"places\", id=2)\n",
    "res"
   ]
  },
  {
   "cell_type": "markdown",
   "metadata": {},
   "source": [
    "### 📟 Exercice [optionnel]\n",
    "Afficher uniquement les informations ci-dessous à partir de la variable `res` "
   ]
  },
  {
   "cell_type": "code",
   "execution_count": 6,
   "metadata": {},
   "outputs": [
    {
     "data": {
      "text/plain": [
       "{'city': 'London', 'country': 'England'}"
      ]
     },
     "execution_count": 6,
     "metadata": {},
     "output_type": "execute_result"
    }
   ],
   "source": []
  },
  {
   "cell_type": "markdown",
   "metadata": {},
   "source": [
    "### Mapping"
   ]
  },
  {
   "cell_type": "code",
   "execution_count": 7,
   "metadata": {},
   "outputs": [
    {
     "data": {
      "text/plain": [
       "{'cities': {'mappings': {'properties': {'city': {'fields': {'keyword': {'ignore_above': 256,\n",
       "       'type': 'keyword'}},\n",
       "     'type': 'text'},\n",
       "    'country': {'fields': {'keyword': {'ignore_above': 256,\n",
       "       'type': 'keyword'}},\n",
       "     'type': 'text'}}}}}"
      ]
     },
     "execution_count": 7,
     "metadata": {},
     "output_type": "execute_result"
    }
   ],
   "source": [
    "es.indices.get_mapping(index='cities')"
   ]
  },
  {
   "cell_type": "markdown",
   "metadata": {},
   "source": [
    "More about mappings: https://www.elastic.co/guide/en/elasticsearch/reference/current/mapping.html"
   ]
  },
  {
   "cell_type": "markdown",
   "metadata": {},
   "source": [
    "## Le endpoint `_search` et les `query`\n",
    "\n",
    "Pour la suite des exemple assurez vous d'avoir importer les data via la `_bulk api`"
   ]
  },
  {
   "cell_type": "code",
   "execution_count": 12,
   "metadata": {
    "scrolled": true
   },
   "outputs": [
    {
     "ename": "NameError",
     "evalue": "name 'es' is not defined",
     "output_type": "error",
     "traceback": [
      "\u001b[0;31m---------------------------------------------------------------------------\u001b[0m",
      "\u001b[0;31mNameError\u001b[0m                                 Traceback (most recent call last)",
      "\u001b[0;32m<ipython-input-12-595bf7d726a6>\u001b[0m in \u001b[0;36m<module>\u001b[0;34m\u001b[0m\n\u001b[0;32m----> 1\u001b[0;31m \u001b[0mres\u001b[0m \u001b[0;34m=\u001b[0m \u001b[0mes\u001b[0m\u001b[0;34m.\u001b[0m\u001b[0msearch\u001b[0m\u001b[0;34m(\u001b[0m\u001b[0mindex\u001b[0m\u001b[0;34m=\u001b[0m\u001b[0;34m\"cities\"\u001b[0m\u001b[0;34m,\u001b[0m \u001b[0mbody\u001b[0m\u001b[0;34m=\u001b[0m\u001b[0;34m{\u001b[0m\u001b[0;34m\"query\"\u001b[0m\u001b[0;34m:\u001b[0m\u001b[0;34m{\u001b[0m\u001b[0;34m\"match_all\"\u001b[0m\u001b[0;34m:\u001b[0m\u001b[0;34m{\u001b[0m\u001b[0;34m}\u001b[0m\u001b[0;34m}\u001b[0m\u001b[0;34m}\u001b[0m\u001b[0;34m)\u001b[0m\u001b[0;34m\u001b[0m\u001b[0;34m\u001b[0m\u001b[0m\n\u001b[0m\u001b[1;32m      2\u001b[0m \u001b[0mres\u001b[0m\u001b[0;34m\u001b[0m\u001b[0;34m\u001b[0m\u001b[0m\n",
      "\u001b[0;31mNameError\u001b[0m: name 'es' is not defined"
     ]
    }
   ],
   "source": [
    "res = es.search(index=\"cities\", body={\"query\":{\"match_all\":{}}})\n",
    "res"
   ]
  },
  {
   "cell_type": "markdown",
   "metadata": {},
   "source": [
    "### 📟 Exercice [optionnel]\n",
    "Afficher uniquement les informations ci-dessous à partir de la variable `res` "
   ]
  },
  {
   "cell_type": "code",
   "execution_count": 9,
   "metadata": {
    "scrolled": true
   },
   "outputs": [
    {
     "data": {
      "text/plain": [
       "[{'_id': '1',\n",
       "  '_index': 'cities',\n",
       "  '_score': 1.0,\n",
       "  '_source': {'city': 'New Delhi', 'country': 'India'},\n",
       "  '_type': 'places'},\n",
       " {'_id': '2',\n",
       "  '_index': 'cities',\n",
       "  '_score': 1.0,\n",
       "  '_source': {'city': 'London', 'country': 'England'},\n",
       "  '_type': 'places'},\n",
       " {'_id': '3',\n",
       "  '_index': 'cities',\n",
       "  '_score': 1.0,\n",
       "  '_source': {'city': 'Los Angeles', 'country': 'America Bitch'},\n",
       "  '_type': 'places'}]"
      ]
     },
     "execution_count": 9,
     "metadata": {},
     "output_type": "execute_result"
    }
   ],
   "source": []
  },
  {
   "cell_type": "markdown",
   "metadata": {},
   "source": [
    "```Python\n",
    "\n",
    "[{'_id': '1',\n",
    "  '_index': 'cities',\n",
    "  '_score': 1.0,\n",
    "  '_source': {'city': 'New Delhi', 'country': 'India'},\n",
    "  '_type': 'places'},\n",
    " {'_id': '2',\n",
    "  '_index': 'cities',\n",
    "  '_score': 1.0,\n",
    "  '_source': {'city': 'London', 'country': 'England'},\n",
    "  '_type': 'places'},\n",
    " {'_id': '3',\n",
    "  '_index': 'cities',\n",
    "  '_score': 1.0,\n",
    "  '_source': {'city': 'Los Angeles', 'country': 'America Bitch'},\n",
    "  '_type': 'places'}]\n",
    "  \n",
    "  ```"
   ]
  },
  {
   "cell_type": "markdown",
   "metadata": {},
   "source": [
    "### Affiner ces critères de recherche avec `_source`"
   ]
  },
  {
   "cell_type": "code",
   "execution_count": 10,
   "metadata": {
    "scrolled": true
   },
   "outputs": [
    {
     "data": {
      "text/plain": [
       "{'_shards': {'failed': 0, 'skipped': 0, 'successful': 5, 'total': 5},\n",
       " 'hits': {'hits': [{'_id': '475',\n",
       "    '_index': 'movies',\n",
       "    '_score': 5.6268926,\n",
       "    '_source': {'fields': {'directors': ['George Clooney'],\n",
       "      'title': 'The Monuments Men'}},\n",
       "    '_type': 'movie'},\n",
       "   {'_id': '1183',\n",
       "    '_index': 'movies',\n",
       "    '_score': 5.6268926,\n",
       "    '_source': {'fields': {'directors': ['George Nolfi'],\n",
       "      'title': 'The Adjustment Bureau'}},\n",
       "    '_type': 'movie'},\n",
       "   {'_id': '4150',\n",
       "    '_index': 'movies',\n",
       "    '_score': 5.6268926,\n",
       "    '_source': {'fields': {'directors': ['Terry George'],\n",
       "      'title': 'Reservation Road'}},\n",
       "    '_type': 'movie'},\n",
       "   {'_id': '3378',\n",
       "    '_index': 'movies',\n",
       "    '_score': 4.881689,\n",
       "    '_source': {'fields': {'directors': ['George Miller', 'George Ogilvie'],\n",
       "      'title': 'Mad Max Beyond Thunderdome'}},\n",
       "    '_type': 'movie'},\n",
       "   {'_id': '226',\n",
       "    '_index': 'movies',\n",
       "    '_score': 4.719993,\n",
       "    '_source': {'fields': {'directors': ['George Lucas'],\n",
       "      'title': 'Star Wars'}},\n",
       "    '_type': 'movie'},\n",
       "   {'_id': '690',\n",
       "    '_index': 'movies',\n",
       "    '_score': 4.719993,\n",
       "    '_source': {'fields': {'directors': ['George Clooney'],\n",
       "      'title': 'The Ides of March'}},\n",
       "    '_type': 'movie'},\n",
       "   {'_id': '1165',\n",
       "    '_index': 'movies',\n",
       "    '_score': 4.719993,\n",
       "    '_source': {'fields': {'directors': ['George Lucas'],\n",
       "      'title': 'American Graffiti'}},\n",
       "    '_type': 'movie'},\n",
       "   {'_id': '3022',\n",
       "    '_index': 'movies',\n",
       "    '_score': 4.719993,\n",
       "    '_source': {'fields': {'directors': ['George Lucas'],\n",
       "      'title': 'THX 1138'}},\n",
       "    '_type': 'movie'},\n",
       "   {'_id': '3715',\n",
       "    '_index': 'movies',\n",
       "    '_score': 4.719993,\n",
       "    '_source': {'fields': {'directors': ['George Gallo'],\n",
       "      'title': 'Middle Men'}},\n",
       "    '_type': 'movie'},\n",
       "   {'_id': '4639',\n",
       "    '_index': 'movies',\n",
       "    '_score': 4.719993,\n",
       "    '_source': {'fields': {'directors': ['George Miller'], 'title': 'Andre'}},\n",
       "    '_type': 'movie'}],\n",
       "  'max_score': 5.6268926,\n",
       "  'total': {'relation': 'eq', 'value': 56}},\n",
       " 'timed_out': False,\n",
       " 'took': 87}"
      ]
     },
     "execution_count": 10,
     "metadata": {},
     "output_type": "execute_result"
    }
   ],
   "source": [
    "es.search(index=\"movies\", body={\n",
    "  \"_source\": {\n",
    "    \"includes\": [\n",
    "      \"*.title\",\n",
    "      \"*.directors\"\n",
    "    ],\n",
    "    \"excludes\": [\n",
    "      \"*.actors*\",\n",
    "      \"*.genres\"\n",
    "    ]\n",
    "  },\n",
    "  \"query\": {\n",
    "    \"match\": {\n",
    "      \"fields.directors\": \"George\"\n",
    "    }\n",
    "  }\n",
    "})"
   ]
  },
  {
   "cell_type": "markdown",
   "metadata": {},
   "source": [
    "### Logique booléenne "
   ]
  },
  {
   "cell_type": "code",
   "execution_count": 11,
   "metadata": {
    "scrolled": true
   },
   "outputs": [
    {
     "data": {
      "text/plain": [
       "{'_shards': {'failed': 0, 'skipped': 0, 'successful': 5, 'total': 5},\n",
       " 'hits': {'hits': [{'_id': '226',\n",
       "    '_index': 'movies',\n",
       "    '_score': 16.046509,\n",
       "    '_source': {'fields': {'actors': ['Mark Hamill',\n",
       "       'Harrison Ford',\n",
       "       'Carrie Fisher'],\n",
       "      'directors': ['George Lucas'],\n",
       "      'genres': ['Action', 'Adventure', 'Fantasy', 'Sci-Fi'],\n",
       "      'image_url': 'http://ia.media-imdb.com/images/M/MV5BMTU4NTczODkwM15BMl5BanBnXkFtZTcwMzEyMTIyMw@@._V1_SX400_.jpg',\n",
       "      'plot': \"Luke Skywalker joins forces with a Jedi Knight, a cocky pilot, a wookiee and two droids to save the universe from the Empire's world-destroying battle-station, while also attempting to rescue Princess Leia from the evil Darth Vader.\",\n",
       "      'rank': 226,\n",
       "      'rating': 8.7,\n",
       "      'release_date': '1977-05-25T00:00:00Z',\n",
       "      'running_time_secs': 7260,\n",
       "      'title': 'Star Wars',\n",
       "      'year': 1977},\n",
       "     'id': 'tt0076759',\n",
       "     'type': 'add'},\n",
       "    '_type': 'movie'},\n",
       "   {'_id': '469',\n",
       "    '_index': 'movies',\n",
       "    '_score': 10.593456,\n",
       "    '_source': {'fields': {'actors': ['Ewan McGregor',\n",
       "       'Liam Neeson',\n",
       "       'Natalie Portman'],\n",
       "      'directors': ['George Lucas'],\n",
       "      'genres': ['Action', 'Adventure', 'Fantasy', 'Sci-Fi'],\n",
       "      'image_url': 'http://ia.media-imdb.com/images/M/MV5BMTQ4NjEwNDA2Nl5BMl5BanBnXkFtZTcwNDUyNDQzNw@@._V1_SX400_.jpg',\n",
       "      'plot': 'Two Jedi Knights escape a hostile blockade to find allies and come across a young boy who may bring balance to the Force, but the long dormant Sith resurface to reclaim their old glory.',\n",
       "      'rank': 469,\n",
       "      'rating': 6.5,\n",
       "      'release_date': '1999-05-19T00:00:00Z',\n",
       "      'running_time_secs': 8160,\n",
       "      'title': 'Star Wars: Episode I - The Phantom Menace',\n",
       "      'year': 1999},\n",
       "     'id': 'tt0120915',\n",
       "     'type': 'add'},\n",
       "    '_type': 'movie'},\n",
       "   {'_id': '371',\n",
       "    '_index': 'movies',\n",
       "    '_score': 10.064606,\n",
       "    '_source': {'fields': {'actors': ['Hayden Christensen',\n",
       "       'Natalie Portman',\n",
       "       'Ewan McGregor'],\n",
       "      'directors': ['George Lucas'],\n",
       "      'genres': ['Action', 'Adventure', 'Fantasy', 'Sci-Fi'],\n",
       "      'image_url': 'http://ia.media-imdb.com/images/M/MV5BNTc4MTc3NTQ5OF5BMl5BanBnXkFtZTcwOTg0NjI4NA@@._V1_SX400_.jpg',\n",
       "      'plot': \"After three years of fighting in the Clone Wars, Anakin Skywalker falls prey to the Sith Lord's lies and makes an enemy of the Jedi and those he loves, concluding his journey to the Dark Side.\",\n",
       "      'rank': 371,\n",
       "      'rating': 7.7,\n",
       "      'release_date': '2005-05-15T00:00:00Z',\n",
       "      'running_time_secs': 8400,\n",
       "      'title': 'Star Wars: Episode III - Revenge of the Sith',\n",
       "      'year': 2005},\n",
       "     'id': 'tt0121766',\n",
       "     'type': 'add'},\n",
       "    '_type': 'movie'},\n",
       "   {'_id': '922',\n",
       "    '_index': 'movies',\n",
       "    '_score': 10.064606,\n",
       "    '_source': {'fields': {'actors': ['Hayden Christensen',\n",
       "       'Natalie Portman',\n",
       "       'Ewan McGregor'],\n",
       "      'directors': ['George Lucas'],\n",
       "      'genres': ['Action', 'Adventure', 'Fantasy', 'Sci-Fi'],\n",
       "      'image_url': 'http://ia.media-imdb.com/images/M/MV5BMTY5MjI5NTIwNl5BMl5BanBnXkFtZTYwMTM1Njg2._V1_SX400_.jpg',\n",
       "      'plot': 'Ten years later, Anakin Skywalker shares a forbidden romance with Padmé, while Obi-Wan investigates an assassination attempt on the Princess and discovers a secret clone army crafted for the Jedi.',\n",
       "      'rank': 922,\n",
       "      'rating': 6.7,\n",
       "      'release_date': '2002-05-16T00:00:00Z',\n",
       "      'running_time_secs': 8520,\n",
       "      'title': 'Star Wars: Episode II - Attack of the Clones',\n",
       "      'year': 2002},\n",
       "     'id': 'tt0121765',\n",
       "     'type': 'add'},\n",
       "    '_type': 'movie'}],\n",
       "  'max_score': 16.046509,\n",
       "  'total': {'relation': 'eq', 'value': 4}},\n",
       " 'timed_out': False,\n",
       " 'took': 35}"
      ]
     },
     "execution_count": 11,
     "metadata": {},
     "output_type": "execute_result"
    }
   ],
   "source": [
    "es.search(index=\"movies\", body=\n",
    "{\n",
    "  \"query\": {\n",
    "    \"bool\": {\n",
    "      \"must\": [\n",
    "        {\n",
    "          \"match\": {\n",
    "            \"fields.directors\": \"George\"\n",
    "          }\n",
    "        },\n",
    "        {\n",
    "          \"match\": {\n",
    "            \"fields.title\": \"Star Wars\"\n",
    "          }\n",
    "        }\n",
    "      ]\n",
    "    }\n",
    "  }\n",
    "})\n"
   ]
  },
  {
   "cell_type": "markdown",
   "metadata": {},
   "source": [
    "### Les critères : SHOULD / MUST"
   ]
  },
  {
   "cell_type": "code",
   "execution_count": 12,
   "metadata": {},
   "outputs": [
    {
     "data": {
      "text/plain": [
       "{'_shards': {'failed': 0, 'skipped': 0, 'successful': 5, 'total': 5},\n",
       " 'hits': {'hits': [{'_id': '2509',\n",
       "    '_index': 'movies',\n",
       "    '_score': 14.557282,\n",
       "    '_source': {'fields': {'actors': ['Mark Wahlberg',\n",
       "       'Jennifer Aniston',\n",
       "       'Dominic West'],\n",
       "      'directors': ['Stephen Herek'],\n",
       "      'genres': ['Comedy', 'Drama', 'Music'],\n",
       "      'image_url': 'http://ia.media-imdb.com/images/M/MV5BMjE4NTYyNTQ0M15BMl5BanBnXkFtZTcwNDYwMTAyMQ@@._V1_SX400_.jpg',\n",
       "      'plot': 'Lead singer of a tribute band becomes lead singer of the real band he idolizes.',\n",
       "      'rank': 2509,\n",
       "      'rating': 5.9,\n",
       "      'release_date': '2001-09-04T00:00:00Z',\n",
       "      'running_time_secs': 6300,\n",
       "      'title': 'Rock Star',\n",
       "      'year': 2001},\n",
       "     'id': 'tt0202470',\n",
       "     'type': 'add'},\n",
       "    '_type': 'movie'},\n",
       "   {'_id': '168',\n",
       "    '_index': 'movies',\n",
       "    '_score': 12.612011,\n",
       "    '_source': {'fields': {'actors': ['Mark Hamill',\n",
       "       'Harrison Ford',\n",
       "       'Carrie Fisher'],\n",
       "      'directors': ['J.J. Abrams'],\n",
       "      'genres': ['Action', 'Adventure', 'Fantasy', 'Sci-Fi'],\n",
       "      'plot': 'A continuation of the saga created by George Lucas.',\n",
       "      'rank': 168,\n",
       "      'release_date': '2015-01-01T00:00:00Z',\n",
       "      'title': 'Star Wars: Episode VII',\n",
       "      'year': 2015},\n",
       "     'id': 'tt2488496',\n",
       "     'type': 'add'},\n",
       "    '_type': 'movie'},\n",
       "   {'_id': '128',\n",
       "    '_index': 'movies',\n",
       "    '_score': 11.051997,\n",
       "    '_source': {'fields': {'actors': ['Chris Pine',\n",
       "       'Zachary Quinto',\n",
       "       'Simon Pegg'],\n",
       "      'directors': ['J.J. Abrams'],\n",
       "      'genres': ['Action', 'Adventure', 'Sci-Fi'],\n",
       "      'image_url': 'http://ia.media-imdb.com/images/M/MV5BMjE5NDQ5OTE4Ml5BMl5BanBnXkFtZTcwOTE3NDIzMw@@._V1_SX400_.jpg',\n",
       "      'plot': \"The brash James T. Kirk tries to live up to his father's legacy with Mr. Spock keeping him in check as a vengeful, time-traveling Romulan creates black holes to destroy the Federation one planet at a time.\",\n",
       "      'rank': 128,\n",
       "      'rating': 8,\n",
       "      'release_date': '2009-04-06T00:00:00Z',\n",
       "      'running_time_secs': 7620,\n",
       "      'title': 'Star Trek',\n",
       "      'year': 2009},\n",
       "     'id': 'tt0796366',\n",
       "     'type': 'add'},\n",
       "    '_type': 'movie'},\n",
       "   {'_id': '2357',\n",
       "    '_index': 'movies',\n",
       "    '_score': 11.051997,\n",
       "    '_source': {'fields': {'actors': [\"Dan O'Bannon\",\n",
       "       'Dre Pahich',\n",
       "       'Brian Narelle'],\n",
       "      'directors': ['John Carpenter'],\n",
       "      'genres': ['Comedy', 'Sci-Fi'],\n",
       "      'image_url': 'http://ia.media-imdb.com/images/M/MV5BMTUwODkwMzk1M15BMl5BanBnXkFtZTcwMjc4ODY3Mw@@._V1_SX400_.jpg',\n",
       "      'plot': 'In the far reaches of space, a small crew, 20 years into their solitary mission, find things beginning to go hilariously wrong.',\n",
       "      'rank': 2357,\n",
       "      'rating': 6.4,\n",
       "      'release_date': '1974-04-01T00:00:00Z',\n",
       "      'running_time_secs': 4980,\n",
       "      'title': 'Dark Star',\n",
       "      'year': 1974},\n",
       "     'id': 'tt0069945',\n",
       "     'type': 'add'},\n",
       "    '_type': 'movie'},\n",
       "   {'_id': '1871',\n",
       "    '_index': 'movies',\n",
       "    '_score': 10.774647,\n",
       "    '_source': {'fields': {'actors': ['Chris Cooper',\n",
       "       'Elizabeth Peña',\n",
       "       'Stephen Mendillo'],\n",
       "      'directors': ['John Sayles'],\n",
       "      'genres': ['Drama', 'Mystery', 'Romance'],\n",
       "      'image_url': 'http://ia.media-imdb.com/images/M/MV5BMTU3OTI2OTk0N15BMl5BanBnXkFtZTcwMTU3OTYxMQ@@._V1_SX400_.jpg',\n",
       "      'plot': 'When the skeleton of his murdered predecessor is found, Sheriff Sam Deeds unearths many other long-buried secrets in his Texas border town.',\n",
       "      'rank': 1871,\n",
       "      'rating': 7.5,\n",
       "      'release_date': '1996-06-21T00:00:00Z',\n",
       "      'running_time_secs': 8100,\n",
       "      'title': 'Lone Star',\n",
       "      'year': 1996},\n",
       "     'id': 'tt0116905',\n",
       "     'type': 'add'},\n",
       "    '_type': 'movie'},\n",
       "   {'_id': '2571',\n",
       "    '_index': 'movies',\n",
       "    '_score': 10.774647,\n",
       "    '_source': {'fields': {'actors': ['Abbie Cornish',\n",
       "       'Ben Whishaw',\n",
       "       'Paul Schneider'],\n",
       "      'directors': ['Jane Campion'],\n",
       "      'genres': ['Biography', 'Drama', 'Romance'],\n",
       "      'image_url': 'http://ia.media-imdb.com/images/M/MV5BMTg0NjEwNDgxNF5BMl5BanBnXkFtZTcwMjkyOTM3Mg@@._V1_SX400_.jpg',\n",
       "      'plot': 'The three-year romance between 19th century poet John Keats and Fanny Brawne.',\n",
       "      'rank': 2571,\n",
       "      'rating': 6.9,\n",
       "      'release_date': '2009-05-15T00:00:00Z',\n",
       "      'running_time_secs': 7140,\n",
       "      'title': 'Bright Star',\n",
       "      'year': 2009},\n",
       "     'id': 'tt0810784',\n",
       "     'type': 'add'},\n",
       "    '_type': 'movie'},\n",
       "   {'_id': '1921',\n",
       "    '_index': 'movies',\n",
       "    '_score': 9.731573,\n",
       "    '_source': {'fields': {'actors': ['Patrick Stewart',\n",
       "       'Jonathan Frakes',\n",
       "       'Brent Spiner'],\n",
       "      'directors': ['Stuart Baird'],\n",
       "      'genres': ['Action', 'Adventure', 'Sci-Fi', 'Thriller'],\n",
       "      'image_url': 'http://ia.media-imdb.com/images/M/MV5BMjAxNjY2NDY3NF5BMl5BanBnXkFtZTcwMjA0MTEzMw@@._V1_SX400_.jpg',\n",
       "      'plot': 'After the Enterprise is diverted to the Romulan planet of Romulus, supposedly because they want to negotiate a truce, the Federation soon find out the Romulans are planning an attack on Earth.',\n",
       "      'rank': 1921,\n",
       "      'rating': 6.3,\n",
       "      'release_date': '2002-12-09T00:00:00Z',\n",
       "      'running_time_secs': 6960,\n",
       "      'title': 'Star Trek: Nemesis',\n",
       "      'year': 2002},\n",
       "     'id': 'tt0253754',\n",
       "     'type': 'add'},\n",
       "    '_type': 'movie'},\n",
       "   {'_id': '2041',\n",
       "    '_index': 'movies',\n",
       "    '_score': 9.731573,\n",
       "    '_source': {'fields': {'actors': ['Patrick Stewart',\n",
       "       'William Shatner',\n",
       "       'Malcolm McDowell'],\n",
       "      'directors': ['David Carson'],\n",
       "      'genres': ['Action', 'Adventure', 'Sci-Fi', 'Thriller'],\n",
       "      'image_url': 'http://ia.media-imdb.com/images/M/MV5BOTMyODkyODk1MV5BMl5BanBnXkFtZTcwNjk5MzI4OA@@._V1_SX400_.jpg',\n",
       "      'plot': 'Captain Picard, with the help of supposedly dead Captain Kirk, must stop a madman willing to murder on a planetary scale in order to enter a space matrix.',\n",
       "      'rank': 2041,\n",
       "      'rating': 6.5,\n",
       "      'release_date': '1994-11-17T00:00:00Z',\n",
       "      'running_time_secs': 7080,\n",
       "      'title': 'Star Trek: Generations',\n",
       "      'year': 1994},\n",
       "     'id': 'tt0111280',\n",
       "     'type': 'add'},\n",
       "    '_type': 'movie'},\n",
       "   {'_id': '2236',\n",
       "    '_index': 'movies',\n",
       "    '_score': 9.522415,\n",
       "    '_source': {'fields': {'actors': ['Patrick Stewart',\n",
       "       'Jonathan Frakes',\n",
       "       'Brent Spiner'],\n",
       "      'directors': ['Jonathan Frakes'],\n",
       "      'genres': ['Action', 'Adventure', 'Sci-Fi', 'Thriller'],\n",
       "      'image_url': 'http://ia.media-imdb.com/images/M/MV5BMjA3NDI5MzQ1OF5BMl5BanBnXkFtZTcwMzcxNDI4OA@@._V1_SX400_.jpg',\n",
       "      'plot': 'When the crew of the Enterprise learn of a Federation plot against the inhabitants of a unique planet, Captain Picard begins an open rebellion.',\n",
       "      'rank': 2236,\n",
       "      'rating': 6.3,\n",
       "      'release_date': '1998-12-11T00:00:00Z',\n",
       "      'running_time_secs': 6180,\n",
       "      'title': 'Star Trek: Insurrection',\n",
       "      'year': 1998},\n",
       "     'id': 'tt0120844',\n",
       "     'type': 'add'},\n",
       "    '_type': 'movie'},\n",
       "   {'_id': '3277',\n",
       "    '_index': 'movies',\n",
       "    '_score': 9.429694,\n",
       "    '_source': {'fields': {'actors': ['Ziyi Zhang', 'Leehom Wang', 'Ruby Lin'],\n",
       "      'directors': ['Dennie Gordon'],\n",
       "      'genres': ['Adventure', 'Comedy'],\n",
       "      'image_url': 'http://ia.media-imdb.com/images/M/MV5BMTQ0MzE3Mjk4M15BMl5BanBnXkFtZTgwNTMzMTEyMDE@._V1_SX400_.jpg',\n",
       "      'plot': 'A woman gets caught up in an international diamond heist that draws her near to a spy trying to save the world.',\n",
       "      'rank': 3277,\n",
       "      'rating': 6.6,\n",
       "      'release_date': '2013-09-17T00:00:00Z',\n",
       "      'running_time_secs': 6840,\n",
       "      'title': 'My Lucky Star',\n",
       "      'year': 2013},\n",
       "     'id': 'tt2102502',\n",
       "     'type': 'add'},\n",
       "    '_type': 'movie'}],\n",
       "  'max_score': 14.557282,\n",
       "  'total': {'relation': 'eq', 'value': 25}},\n",
       " 'timed_out': False,\n",
       " 'took': 30}"
      ]
     },
     "execution_count": 12,
     "metadata": {},
     "output_type": "execute_result"
    }
   ],
   "source": [
    "es.search(index=\"movies\", body=\n",
    "{\n",
    "  \"query\": {\n",
    "    \"bool\": {\n",
    "      \"must\": [\n",
    "                  { \"match\": { \"fields.title\": \"Star Wars\"}}\n",
    "                  \n",
    "      ],\n",
    "      \"must_not\": { \"match\": { \"fields.directors\": \"George Miller\" }},\n",
    "      \"should\": [\n",
    "                  { \"match\": { \"fields.title\": \"Star\" }},\n",
    "                  { \"match\": { \"fields.directors\": \"George Lucas\"}}\n",
    "      ]\n",
    "    }\n",
    "  }\n",
    "})"
   ]
  },
  {
   "cell_type": "markdown",
   "metadata": {},
   "source": [
    "### Filtrer ses query avec `filter` \n",
    "\n",
    "On cherche ici les recettes avec un ingrédient de type `parmesan` sans ingrédient `tuna` en filtrant les recettes avec un temps de préparation inférieur ou egale à 15minutes.  "
   ]
  },
  {
   "cell_type": "code",
   "execution_count": 13,
   "metadata": {
    "scrolled": true
   },
   "outputs": [
    {
     "data": {
      "text/plain": [
       "{'_shards': {'failed': 0, 'skipped': 0, 'successful': 1, 'total': 1},\n",
       " 'hits': {'hits': [{'_id': '1',\n",
       "    '_index': 'receipe',\n",
       "    '_score': 1.379573,\n",
       "    '_source': {'created': '2017/03/29',\n",
       "     'description': \"Cherry tomatoes are almost always sweeter, riper, and higher in pectin than larger tomatoes at the supermarket. All of these factors mean that cherry tomatoes are fantastic for making a rich, thick, flavorful sauce. Even better: It takes only four ingredients and about 10 minutes, start to finish—less time than it takes to cook the pasta you're gonna serve it with.\",\n",
       "     'ingredients': [{'name': 'Dry pasta', 'quantity': '450g'},\n",
       "      {'name': 'Kosher salt'},\n",
       "      {'name': 'Cloves garlic', 'quantity': '4'},\n",
       "      {'name': 'Extra-virgin olive oil', 'quantity': '90ml'},\n",
       "      {'name': 'Cherry tomatoes', 'quantity': '750g'},\n",
       "      {'name': 'Fresh basil leaves', 'quantity': '30g'},\n",
       "      {'name': 'Freshly ground black pepper'},\n",
       "      {'name': 'Parmesan cheese'}],\n",
       "     'preparation_time_minutes': 12,\n",
       "     'ratings': [4.5, 5.0, 3.0, 4.5],\n",
       "     'servings': {'max': 6, 'min': 4},\n",
       "     'steps': ['Place pasta in a large skillet or sauté pan and cover with water and a big pinch of salt. Bring to a boil over high heat, stirring occasionally. Boil until just shy of al dente, about 1 minute less than the package instructions recommend.',\n",
       "      'Meanwhile, heat garlic and 4 tablespoons (60ml) olive oil in a 12-inch skillet over medium heat, stirring frequently, until garlic is softened but not browned, about 3 minutes. Add tomatoes and cook, stirring, until tomatoes begin to burst. You can help them along by pressing on them with the back of a wooden spoon as they soften.',\n",
       "      'Continue to cook until sauce is rich and creamy, about 5 minutes longer. Stir in basil and season to taste with salt and pepper.',\n",
       "      'When pasta is cooked, drain, reserving 1 cup of pasta water. Add pasta to sauce and increase heat to medium-high. Cook, stirring and tossing constantly and adding reserved pasta water as necessary to adjust consistency to a nice, creamy flow. Remove from heat, stir in remaining 2 tablespoons (30ml) olive oil, and grate in a generous shower of Parmesan cheese. Serve immediately, passing extra Parmesan at the table.'],\n",
       "     'title': 'Fast and Easy Pasta With Blistered Cherry Tomato Sauce'},\n",
       "    '_type': '_doc'},\n",
       "   {'_id': '10',\n",
       "    '_index': 'receipe',\n",
       "    '_score': 1.2786832,\n",
       "    '_source': {'created': '2017/04/27',\n",
       "     'description': 'Exceedingly simple in concept and execution, arrabbiata sauce is tomato sauce with the distinction of being spicy enough to earn its \"angry\" moniker. Here\\'s how to make it, from start to finish.',\n",
       "     'ingredients': [{'name': 'Kosher salt'},\n",
       "      {'name': 'Penne pasta', 'quantity': '450g'},\n",
       "      {'name': 'Extra-virgin olive oil', 'quantity': '3 tablespoons'},\n",
       "      {'name': 'Clove garlic', 'quantity': '1'},\n",
       "      {'name': 'Crushed red pepper'},\n",
       "      {'name': 'Can whole peeled tomatoes', 'quantity': '400g'},\n",
       "      {'name': 'Finely grated Parmesan cheese', 'quantity': '60g'},\n",
       "      {'name': 'Minced flat-leaf parsley leaves',\n",
       "       'quantity': 'Small handful'}],\n",
       "     'preparation_time_minutes': 15,\n",
       "     'ratings': [1.5, 2.0, 4.0, 3.5, 3.0, 5.0, 1.5],\n",
       "     'servings': {'max': 4, 'min': 4},\n",
       "     'steps': ['In a medium saucepan of boiling salted water, cook penne until just short of al dente, about 1 minute less than the package recommends.',\n",
       "      'Meanwhile, in a large skillet, combine oil, garlic, and pepper flakes. Cook over medium heat until garlic is very lightly golden, about 5 minutes. (Adjust heat as necessary to keep it gently sizzling.)',\n",
       "      'Add tomatoes, stir to combine, and bring to a bare simmer. When pasta is ready, transfer it to sauce using a strainer or slotted spoon. (Alternatively, drain pasta through a colander, reserving 1 cup of cooking water. Add drained pasta to sauce.)',\n",
       "      'Add about 1/4 cup pasta water to sauce and increase heat to bring pasta and sauce to a vigorous simmer. Cook, stirring and shaking the pan and adding more pasta water as necessary to keep sauce loose, until pasta is perfectly al dente, 1 to 2 minutes longer. (The pasta will cook more slowly in the sauce than it did in the water.)',\n",
       "      'Continue cooking pasta until sauce thickens and begins to coat noodles, then remove from heat and toss in cheese and parsley, stirring vigorously to incorporate. Stir in a drizzle of fresh olive oil, if desired. Season with salt and serve right away, passing more cheese at the table.'],\n",
       "     'title': 'Penne With Hot-As-You-Dare Arrabbiata Sauce'},\n",
       "    '_type': '_doc'}],\n",
       "  'max_score': 1.379573,\n",
       "  'total': {'relation': 'eq', 'value': 2}},\n",
       " 'timed_out': False,\n",
       " 'took': 21}"
      ]
     },
     "execution_count": 13,
     "metadata": {},
     "output_type": "execute_result"
    }
   ],
   "source": [
    "es.search(index=\"receipe\", body={\n",
    "  \"query\": {\n",
    "    \"bool\": {\n",
    "      \"must\": [\n",
    "        {\n",
    "          \"match\": {\n",
    "            \"ingredients.name\": \"parmesan\"\n",
    "          }\n",
    "        }\n",
    "      ], \n",
    "      \"must_not\": [\n",
    "        {\n",
    "          \"match\": {\n",
    "            \"ingredients.name\": \"tuna\"\n",
    "          }\n",
    "        }\n",
    "      ], \n",
    "      \"filter\": [\n",
    "        {\n",
    "          \"range\":{\n",
    "            \"preparation_time_minutes\": {\n",
    "              \"lte\":15\n",
    "            }\n",
    "          }\n",
    "        }\n",
    "        ]\n",
    "    }\n",
    "  }\n",
    "})\n",
    "\n"
   ]
  },
  {
   "cell_type": "markdown",
   "metadata": {},
   "source": [
    "### Recherche avec un prefix \n",
    "\n",
    "Les query de type `prefix` permettent de trouver tout les termes commencant par le(s) caractère(s) correspondant.  "
   ]
  },
  {
   "cell_type": "code",
   "execution_count": 14,
   "metadata": {},
   "outputs": [
    {
     "data": {
      "text/plain": [
       "{'_shards': {'failed': 0, 'skipped': 0, 'successful': 1, 'total': 1},\n",
       " 'hits': {'hits': [{'_id': '2',\n",
       "    '_index': 'cities',\n",
       "    '_score': 1.0,\n",
       "    '_source': {'city': 'London', 'country': 'England'},\n",
       "    '_type': 'places'},\n",
       "   {'_id': '3',\n",
       "    '_index': 'cities',\n",
       "    '_score': 1.0,\n",
       "    '_source': {'city': 'Los Angeles', 'country': 'America Bitch'},\n",
       "    '_type': 'places'}],\n",
       "  'max_score': 1.0,\n",
       "  'total': {'relation': 'eq', 'value': 2}},\n",
       " 'timed_out': False,\n",
       " 'took': 11}"
      ]
     },
     "execution_count": 14,
     "metadata": {},
     "output_type": "execute_result"
    }
   ],
   "source": [
    "es.search(index=\"cities\", body={\"query\": {\"prefix\" : { \"city\" : \"l\" }}})"
   ]
  },
  {
   "cell_type": "markdown",
   "metadata": {},
   "source": [
    "### Rechercher avec des regex "
   ]
  },
  {
   "cell_type": "code",
   "execution_count": 15,
   "metadata": {},
   "outputs": [
    {
     "data": {
      "text/plain": [
       "{'_shards': {'failed': 0, 'skipped': 0, 'successful': 1, 'total': 1},\n",
       " 'hits': {'hits': [{'_id': '1',\n",
       "    '_index': 'cities',\n",
       "    '_score': 1.0,\n",
       "    '_source': {'city': 'New Delhi', 'country': 'India'},\n",
       "    '_type': 'places'},\n",
       "   {'_id': '2',\n",
       "    '_index': 'cities',\n",
       "    '_score': 1.0,\n",
       "    '_source': {'city': 'London', 'country': 'England'},\n",
       "    '_type': 'places'},\n",
       "   {'_id': '3',\n",
       "    '_index': 'cities',\n",
       "    '_score': 1.0,\n",
       "    '_source': {'city': 'Los Angeles', 'country': 'America Bitch'},\n",
       "    '_type': 'places'}],\n",
       "  'max_score': 1.0,\n",
       "  'total': {'relation': 'eq', 'value': 3}},\n",
       " 'timed_out': False,\n",
       " 'took': 4}"
      ]
     },
     "execution_count": 15,
     "metadata": {},
     "output_type": "execute_result"
    }
   ],
   "source": [
    "#tout afficher \n",
    "es.search(index=\"cities\", body={\"query\": {\"regexp\" : { \"city\" : \".*\" }}})"
   ]
  },
  {
   "cell_type": "code",
   "execution_count": 16,
   "metadata": {},
   "outputs": [
    {
     "data": {
      "text/plain": [
       "{'_shards': {'failed': 0, 'skipped': 0, 'successful': 1, 'total': 1},\n",
       " 'hits': {'hits': [{'_id': '2',\n",
       "    '_index': 'cities',\n",
       "    '_score': 1.0,\n",
       "    '_source': {'city': 'London', 'country': 'England'},\n",
       "    '_type': 'places'},\n",
       "   {'_id': '3',\n",
       "    '_index': 'cities',\n",
       "    '_score': 1.0,\n",
       "    '_source': {'city': 'Los Angeles', 'country': 'America Bitch'},\n",
       "    '_type': 'places'}],\n",
       "  'max_score': 1.0,\n",
       "  'total': {'relation': 'eq', 'value': 2}},\n",
       " 'timed_out': False,\n",
       " 'took': 15}"
      ]
     },
     "execution_count": 16,
     "metadata": {},
     "output_type": "execute_result"
    }
   ],
   "source": [
    "#afficher les cities qui commencent par L\n",
    "es.search(index=\"cities\", body={\"query\": {\"regexp\" : { \"city\" : \"l.*\" }}})"
   ]
  },
  {
   "cell_type": "code",
   "execution_count": 17,
   "metadata": {},
   "outputs": [
    {
     "data": {
      "text/plain": [
       "{'_shards': {'failed': 0, 'skipped': 0, 'successful': 1, 'total': 1},\n",
       " 'hits': {'hits': [{'_id': '2',\n",
       "    '_index': 'cities',\n",
       "    '_score': 1.0,\n",
       "    '_source': {'city': 'London', 'country': 'England'},\n",
       "    '_type': 'places'}],\n",
       "  'max_score': 1.0,\n",
       "  'total': {'relation': 'eq', 'value': 1}},\n",
       " 'timed_out': False,\n",
       " 'took': 50}"
      ]
     },
     "execution_count": 17,
     "metadata": {},
     "output_type": "execute_result"
    }
   ],
   "source": [
    "#afficher les cities qui commencent par L et terminent par n \n",
    "es.search(index=\"cities\", body={\"query\": {\"regexp\" : { \"city\" : \"l.*n\" }}})"
   ]
  },
  {
   "cell_type": "markdown",
   "metadata": {},
   "source": [
    "### Agregation "
   ]
  },
  {
   "cell_type": "code",
   "execution_count": 18,
   "metadata": {},
   "outputs": [
    {
     "data": {
      "text/plain": [
       "{'nb_par_annee': {'buckets': [{'doc_count': 448, 'key': 2013},\n",
       "   {'doc_count': 404, 'key': 2012},\n",
       "   {'doc_count': 308, 'key': 2011},\n",
       "   {'doc_count': 253, 'key': 2009},\n",
       "   {'doc_count': 249, 'key': 2010},\n",
       "   {'doc_count': 207, 'key': 2008},\n",
       "   {'doc_count': 204, 'key': 2006},\n",
       "   {'doc_count': 200, 'key': 2007},\n",
       "   {'doc_count': 170, 'key': 2005},\n",
       "   {'doc_count': 152, 'key': 2014}],\n",
       "  'doc_count_error_upper_bound': 52,\n",
       "  'sum_other_doc_count': 2192}}"
      ]
     },
     "execution_count": 18,
     "metadata": {},
     "output_type": "execute_result"
    }
   ],
   "source": [
    "#agregation simple -> movies/years\n",
    "res = es.search(index=\"movies\",body={\"aggs\" : {\n",
    "    \"nb_par_annee\" : {\n",
    "        \"terms\" : {\"field\" : \"fields.year\"}\n",
    "}}})\n",
    "res['aggregations']"
   ]
  },
  {
   "cell_type": "code",
   "execution_count": 19,
   "metadata": {},
   "outputs": [
    {
     "data": {
      "text/plain": [
       "{'note_moyenne': {'value': 6.387107691895831}}"
      ]
     },
     "execution_count": 19,
     "metadata": {},
     "output_type": "execute_result"
    }
   ],
   "source": [
    "#agregation et stats simple -> moyennes des raitings \n",
    "res = es.search(index=\"movies\",body={\"aggs\" : {\n",
    "    \"note_moyenne\" : {\n",
    "        \"avg\" : {\"field\" : \"fields.rating\"}\n",
    "}}})\n",
    "res['aggregations']"
   ]
  },
  {
   "cell_type": "code",
   "execution_count": 20,
   "metadata": {
    "scrolled": true
   },
   "outputs": [
    {
     "data": {
      "text/plain": [
       "{'group_year': {'buckets': [{'doc_count': 448,\n",
       "    'key': 2013,\n",
       "    'note_max': {'value': 8.699999809265137},\n",
       "    'note_min': {'value': 2.5},\n",
       "    'note_moyenne': {'value': 5.962700002789497}},\n",
       "   {'doc_count': 404,\n",
       "    'key': 2012,\n",
       "    'note_max': {'value': 8.600000381469727},\n",
       "    'note_min': {'value': 2.4000000953674316},\n",
       "    'note_moyenne': {'value': 5.961786593160322}},\n",
       "   {'doc_count': 308,\n",
       "    'key': 2011,\n",
       "    'note_max': {'value': 8.5},\n",
       "    'note_min': {'value': 1.7000000476837158},\n",
       "    'note_moyenne': {'value': 6.114285714440531}},\n",
       "   {'doc_count': 253,\n",
       "    'key': 2009,\n",
       "    'note_max': {'value': 8.399999618530273},\n",
       "    'note_min': {'value': 2.700000047683716},\n",
       "    'note_moyenne': {'value': 6.268774692248921}},\n",
       "   {'doc_count': 249,\n",
       "    'key': 2010,\n",
       "    'note_max': {'value': 8.800000190734863},\n",
       "    'note_min': {'value': 1.7999999523162842},\n",
       "    'note_moyenne': {'value': 6.239759046868627}},\n",
       "   {'doc_count': 207,\n",
       "    'key': 2008,\n",
       "    'note_max': {'value': 9.0},\n",
       "    'note_min': {'value': 1.7999999523162842},\n",
       "    'note_moyenne': {'value': 6.230917865527425}},\n",
       "   {'doc_count': 204,\n",
       "    'key': 2006,\n",
       "    'note_max': {'value': 8.5},\n",
       "    'note_min': {'value': 1.7999999523162842},\n",
       "    'note_moyenne': {'value': 6.31617646708208}},\n",
       "   {'doc_count': 200,\n",
       "    'key': 2007,\n",
       "    'note_max': {'value': 8.300000190734863},\n",
       "    'note_min': {'value': 2.200000047683716},\n",
       "    'note_moyenne': {'value': 6.419499988555908}},\n",
       "   {'doc_count': 170,\n",
       "    'key': 2005,\n",
       "    'note_max': {'value': 8.300000190734863},\n",
       "    'note_min': {'value': 2.299999952316284},\n",
       "    'note_moyenne': {'value': 6.289999998317045}},\n",
       "   {'doc_count': 152,\n",
       "    'key': 2014,\n",
       "    'note_max': {'value': 4.860000133514404},\n",
       "    'note_min': {'value': 4.860000133514404},\n",
       "    'note_moyenne': {'value': 4.860000133514404}}],\n",
       "  'doc_count_error_upper_bound': 52,\n",
       "  'sum_other_doc_count': 2192}}"
      ]
     },
     "execution_count": 20,
     "metadata": {},
     "output_type": "execute_result"
    }
   ],
   "source": [
    "#agregation et stats simple -> stats basiques raitings/years\n",
    "res = es.search(index=\"movies\",body={\"aggs\" : {\n",
    "    \"group_year\" : {\n",
    "        \"terms\" : { \"field\" : \"fields.year\" },\n",
    "        \"aggs\" : {\n",
    "            \"note_moyenne\" : {\"avg\" : {\"field\" : \"fields.rating\"}},\n",
    "            \"note_min\" : {\"min\" : {\"field\" : \"fields.rating\"}},\n",
    "            \"note_max\" : {\"max\" : {\"field\" : \"fields.rating\"}}\n",
    "        }\n",
    "}}})\n",
    "res[\"aggregations\"]"
   ]
  },
  {
   "cell_type": "markdown",
   "metadata": {},
   "source": [
    "### 📟 Exercice [optionnel]\n",
    "Tester d'autres requetes"
   ]
  },
  {
   "cell_type": "markdown",
   "metadata": {},
   "source": [
    "### Datetime agrégation \n",
    "\n",
    "Pour illuster l'agrégation par datetime on va créer un index `travel` et utiliser des data de type :\n",
    "```\n",
    "doc1 = {\"city\":\"Bangalore\", \"country\":\"India\",\"datetime\": datetime.datetime(2018,1,1,10,20,0)} \n",
    "```"
   ]
  },
  {
   "cell_type": "code",
   "execution_count": 21,
   "metadata": {},
   "outputs": [
    {
     "data": {
      "text/plain": [
       "{'acknowledged': True, 'index': 'travel', 'shards_acknowledged': True}"
      ]
     },
     "execution_count": 21,
     "metadata": {},
     "output_type": "execute_result"
    }
   ],
   "source": [
    "#specify mapping and create index \n",
    "if es.indices.exists(index=\"travel\"):\n",
    "    es.indices.delete(index=\"travel\", ignore=[400,404])\n",
    "\n",
    "settings = {\n",
    "    \"settings\": {\n",
    "        \"number_of_shards\": 2,\n",
    "        \"number_of_replicas\": 1\n",
    "    },\n",
    "    \"mappings\": {\n",
    "            \"properties\": {\n",
    "                \"city\": {\n",
    "                        \"type\": \"text\",\n",
    "                        \"fields\": {\n",
    "                            \"keyword\": {\n",
    "                                \"type\": \"keyword\",\n",
    "                                \"ignore_above\": 256\n",
    "                            }\n",
    "                        }\n",
    "                    },\n",
    "                    \"country\": {\n",
    "                        \"type\": \"text\",\n",
    "                        \"fields\": {\n",
    "                            \"keyword\": {\n",
    "                                \"type\": \"keyword\",\n",
    "                                \"ignore_above\": 256\n",
    "                            }\n",
    "                        }\n",
    "                    },\n",
    "                    \"datetime\": {\n",
    "                        \"type\": \"date\",\n",
    "                    }\n",
    "        }\n",
    "     }\n",
    "}\n",
    "es.indices.create(index=\"travel\", ignore=400, body=settings)"
   ]
  },
  {
   "cell_type": "code",
   "execution_count": 22,
   "metadata": {},
   "outputs": [
    {
     "data": {
      "text/plain": [
       "{'_id': '3',\n",
       " '_index': 'travel',\n",
       " '_primary_term': 1,\n",
       " '_seq_no': 2,\n",
       " '_shards': {'failed': 0, 'successful': 1, 'total': 2},\n",
       " '_type': '_doc',\n",
       " '_version': 1,\n",
       " 'result': 'created'}"
      ]
     },
     "execution_count": 22,
     "metadata": {},
     "output_type": "execute_result"
    }
   ],
   "source": [
    "import datetime\n",
    "doc1 = {\"city\":\"Bangalore\", \"country\":\"India\",\"datetime\": datetime.datetime(2018,1,1,10,20,0)} #datetime format: yyyy,MM,dd,hh,mm,ss\n",
    "doc2 = {\"city\":\"London\", \"country\":\"England\",\"datetime\": datetime.datetime(2018,1,2,22,30,0)}\n",
    "doc3 = {\"city\":\"Los Angeles\", \"country\":\"USA\",\"datetime\": datetime.datetime(2018,4,19,18,20,0)}\n",
    "es.index(index=\"travel\", id=1, body=doc1)\n",
    "es.index(index=\"travel\", id=2, body=doc2)\n",
    "es.index(index=\"travel\", id=3, body=doc3)"
   ]
  },
  {
   "cell_type": "code",
   "execution_count": 23,
   "metadata": {},
   "outputs": [
    {
     "data": {
      "text/plain": [
       "{'travel': {'mappings': {'properties': {'city': {'fields': {'keyword': {'ignore_above': 256,\n",
       "       'type': 'keyword'}},\n",
       "     'type': 'text'},\n",
       "    'country': {'fields': {'keyword': {'ignore_above': 256,\n",
       "       'type': 'keyword'}},\n",
       "     'type': 'text'},\n",
       "    'datetime': {'type': 'date'}}}}}"
      ]
     },
     "execution_count": 23,
     "metadata": {},
     "output_type": "execute_result"
    }
   ],
   "source": [
    "es.indices.get_mapping(index='travel')"
   ]
  },
  {
   "cell_type": "code",
   "execution_count": 24,
   "metadata": {},
   "outputs": [
    {
     "data": {
      "text/plain": [
       "{'_shards': {'failed': 0, 'skipped': 0, 'successful': 2, 'total': 2},\n",
       " 'aggregations': {'country': {'buckets': []}},\n",
       " 'hits': {'hits': [],\n",
       "  'max_score': None,\n",
       "  'total': {'relation': 'eq', 'value': 0}},\n",
       " 'timed_out': False,\n",
       " 'took': 8}"
      ]
     },
     "execution_count": 24,
     "metadata": {},
     "output_type": "execute_result"
    }
   ],
   "source": [
    "es.search(index=\"travel\", body={\"from\": 0, \"size\": 0, \"query\": {\"match_all\": {}}, \"aggs\": {\n",
    "                  \"country\": {\n",
    "                      \"date_histogram\": {\"field\": \"datetime\", \"calendar_interval\": \"year\"}}}})"
   ]
  },
  {
   "cell_type": "markdown",
   "metadata": {},
   "source": [
    "### 📟 Exercice [optionnel]\n",
    "Créer le document suivant et inserer le en base afin de rafficher l'histogramme precedent, dite ce qui à changer.\n",
    "```\n",
    "doc4 = {\"city\":\"Sydney\", \"country\":\"Australia\",\"datetime\":datetime.datetime(2019,4,19,18,20,0)}\n",
    "```"
   ]
  },
  {
   "cell_type": "code",
   "execution_count": 25,
   "metadata": {},
   "outputs": [
    {
     "data": {
      "text/plain": [
       "{'_id': '4',\n",
       " '_index': 'travel',\n",
       " '_primary_term': 1,\n",
       " '_seq_no': 0,\n",
       " '_shards': {'failed': 0, 'successful': 1, 'total': 2},\n",
       " '_type': '_doc',\n",
       " '_version': 1,\n",
       " 'result': 'created'}"
      ]
     },
     "execution_count": 25,
     "metadata": {},
     "output_type": "execute_result"
    }
   ],
   "source": []
  },
  {
   "cell_type": "code",
   "execution_count": 26,
   "metadata": {},
   "outputs": [
    {
     "data": {
      "text/plain": [
       "{'_shards': {'failed': 0, 'skipped': 0, 'successful': 2, 'total': 2},\n",
       " 'aggregations': {'country': {'buckets': []}},\n",
       " 'hits': {'hits': [],\n",
       "  'max_score': None,\n",
       "  'total': {'relation': 'eq', 'value': 0}},\n",
       " 'timed_out': False,\n",
       " 'took': 5}"
      ]
     },
     "execution_count": 26,
     "metadata": {},
     "output_type": "execute_result"
    }
   ],
   "source": []
  },
  {
   "cell_type": "markdown",
   "metadata": {},
   "source": [
    "## Search text introduction : endpoint `_analyze`\n",
    "\n",
    "### Construire un Analyzer\n",
    "Avant de commencer cette partie assurez vous d'avoir créer un `french analyzer` dans elasticsearch. \n",
    "Ci joint l'exemple d'analyzer francais vu dans le cour : \n",
    "```json\n",
    "PUT french\n",
    "{\n",
    "  \"settings\": {\n",
    "    \"analysis\": { \n",
    "      \"filter\": {\n",
    "        \"french_elision\": {\n",
    "          \"type\": \"elision\",\n",
    "          \"articles_case\": true,\n",
    "          \"articles\": [\"l\", \"m\", \"t\", \"qu\", \"n\", \"s\", \"j\", \"d\", \"c\", \"jusqu\", \"quoiqu\", \"lorsqu\", \"puisqu\"]\n",
    "        },\n",
    "        \"french_synonym\": {\n",
    "          \"type\": \"synonym\",\n",
    "          \"ignore_case\": true,\n",
    "          \"expand\": true,\n",
    "          \"synonyms\": [\n",
    "            \"réviser, étudier, bosser\",\n",
    "            \"mayo, mayonnaise\",\n",
    "            \"grille, toaste\"\n",
    "          ]\n",
    "        },\n",
    "        \"french_stemmer\": {\n",
    "          \"type\": \"stemmer\",\n",
    "          \"language\": \"light_french\"\n",
    "        }\n",
    "      },\n",
    "      \"analyzer\": {\n",
    "        \"french_heavy\": {\n",
    "          \"tokenizer\": \"icu_tokenizer\",\n",
    "          \"filter\": [\n",
    "            \"french_elision\",\n",
    "            \"icu_folding\",\n",
    "            \"french_synonym\",\n",
    "            \"french_stemmer\"\n",
    "          ]\n",
    "        },\n",
    "        \"french_light\": {\n",
    "          \"tokenizer\": \"icu_tokenizer\",\n",
    "          \"filter\": [\n",
    "            \"french_elision\",\n",
    "            \"icu_folding\"\n",
    "          ]\n",
    "        }\n",
    "      }\n",
    "    }\n",
    "  }\n",
    "}\n",
    "```\n",
    "\n",
    "🤓 Assurer vous d'installer le pluging qui contient `icu_tokenizer` avant sinon vous allez avoir une erreur. "
   ]
  },
  {
   "cell_type": "code",
   "execution_count": 27,
   "metadata": {},
   "outputs": [
    {
     "data": {
      "text/plain": [
       "{'_id': '1',\n",
       " '_index': 'french',\n",
       " '_primary_term': 1,\n",
       " '_seq_no': 2,\n",
       " '_shards': {'failed': 0, 'successful': 1, 'total': 2},\n",
       " '_type': '_doc',\n",
       " '_version': 3,\n",
       " 'result': 'updated'}"
      ]
     },
     "execution_count": 27,
     "metadata": {},
     "output_type": "execute_result"
    }
   ],
   "source": [
    "doc1 = {\"text\" : \"Une phrase en français :) ...\"}\n",
    "es.index(index=\"french\", id=1, body=doc1)"
   ]
  },
  {
   "cell_type": "code",
   "execution_count": 28,
   "metadata": {},
   "outputs": [
    {
     "data": {
      "text/plain": [
       "{'tokens': [{'end_offset': 2,\n",
       "   'position': 0,\n",
       "   'start_offset': 0,\n",
       "   'token': 'je',\n",
       "   'type': '<ALPHANUM>'},\n",
       "  {'end_offset': 7,\n",
       "   'position': 1,\n",
       "   'start_offset': 3,\n",
       "   'token': 'dois',\n",
       "   'type': '<ALPHANUM>'},\n",
       "  {'end_offset': 14,\n",
       "   'position': 2,\n",
       "   'start_offset': 8,\n",
       "   'token': 'bosser',\n",
       "   'type': '<ALPHANUM>'},\n",
       "  {'end_offset': 19,\n",
       "   'position': 3,\n",
       "   'start_offset': 15,\n",
       "   'token': 'pour',\n",
       "   'type': '<ALPHANUM>'},\n",
       "  {'end_offset': 23,\n",
       "   'position': 4,\n",
       "   'start_offset': 20,\n",
       "   'token': 'mon',\n",
       "   'type': '<ALPHANUM>'},\n",
       "  {'end_offset': 27,\n",
       "   'position': 5,\n",
       "   'start_offset': 24,\n",
       "   'token': 'qcm',\n",
       "   'type': '<ALPHANUM>'},\n",
       "  {'end_offset': 33,\n",
       "   'position': 6,\n",
       "   'start_offset': 28,\n",
       "   'token': 'sinon',\n",
       "   'type': '<ALPHANUM>'},\n",
       "  {'end_offset': 36,\n",
       "   'position': 7,\n",
       "   'start_offset': 34,\n",
       "   'token': 'je',\n",
       "   'type': '<ALPHANUM>'},\n",
       "  {'end_offset': 41,\n",
       "   'position': 8,\n",
       "   'start_offset': 37,\n",
       "   'token': 'vais',\n",
       "   'type': '<ALPHANUM>'},\n",
       "  {'end_offset': 47,\n",
       "   'position': 9,\n",
       "   'start_offset': 42,\n",
       "   'token': 'avoir',\n",
       "   'type': '<ALPHANUM>'},\n",
       "  {'end_offset': 51,\n",
       "   'position': 10,\n",
       "   'start_offset': 48,\n",
       "   'token': 'une',\n",
       "   'type': '<ALPHANUM>'},\n",
       "  {'end_offset': 56,\n",
       "   'position': 11,\n",
       "   'start_offset': 52,\n",
       "   'token': 'sale',\n",
       "   'type': '<ALPHANUM>'},\n",
       "  {'end_offset': 61,\n",
       "   'position': 12,\n",
       "   'start_offset': 57,\n",
       "   'token': 'note',\n",
       "   'type': '<ALPHANUM>'}]}"
      ]
     },
     "execution_count": 28,
     "metadata": {},
     "output_type": "execute_result"
    }
   ],
   "source": [
    "es.indices.analyze(index=\"french\",body={\n",
    "  \"text\" : \"Je dois bosser pour mon QCM sinon je vais avoir une sale note :( ...\"\n",
    "})"
   ]
  },
  {
   "cell_type": "markdown",
   "metadata": {},
   "source": [
    "### 📟 Exercice [optionnel]\n",
    "Ajouter une fonctionnalités de reconnaissance de smiley à votre analyzer, de sorte qu'il fasse le lien suivant : \n",
    "```\n",
    ":) -> _content_\n",
    ":( -> _triste_\n",
    "```\n",
    "Faite ensuite une requete en python sur le document ci-dessous : \n",
    "```json\n",
    "{\n",
    "     \"text\" : \"Je dois bosser pour mon QCM sinon je vais avoir une sale note :( ...\"\n",
    "}\n",
    "```"
   ]
  },
  {
   "cell_type": "code",
   "execution_count": 29,
   "metadata": {},
   "outputs": [
    {
     "data": {
      "text/plain": [
       "{'tokens': [{'end_offset': 2,\n",
       "   'position': 0,\n",
       "   'start_offset': 0,\n",
       "   'token': 'je',\n",
       "   'type': '<ALPHANUM>'},\n",
       "  {'end_offset': 7,\n",
       "   'position': 1,\n",
       "   'start_offset': 3,\n",
       "   'token': 'dois',\n",
       "   'type': '<ALPHANUM>'},\n",
       "  {'end_offset': 14,\n",
       "   'position': 2,\n",
       "   'start_offset': 8,\n",
       "   'token': 'bosser',\n",
       "   'type': '<ALPHANUM>'},\n",
       "  {'end_offset': 19,\n",
       "   'position': 3,\n",
       "   'start_offset': 15,\n",
       "   'token': 'pour',\n",
       "   'type': '<ALPHANUM>'},\n",
       "  {'end_offset': 23,\n",
       "   'position': 4,\n",
       "   'start_offset': 20,\n",
       "   'token': 'mon',\n",
       "   'type': '<ALPHANUM>'},\n",
       "  {'end_offset': 27,\n",
       "   'position': 5,\n",
       "   'start_offset': 24,\n",
       "   'token': 'qcm',\n",
       "   'type': '<ALPHANUM>'},\n",
       "  {'end_offset': 33,\n",
       "   'position': 6,\n",
       "   'start_offset': 28,\n",
       "   'token': 'sinon',\n",
       "   'type': '<ALPHANUM>'},\n",
       "  {'end_offset': 36,\n",
       "   'position': 7,\n",
       "   'start_offset': 34,\n",
       "   'token': 'je',\n",
       "   'type': '<ALPHANUM>'},\n",
       "  {'end_offset': 41,\n",
       "   'position': 8,\n",
       "   'start_offset': 37,\n",
       "   'token': 'vais',\n",
       "   'type': '<ALPHANUM>'},\n",
       "  {'end_offset': 47,\n",
       "   'position': 9,\n",
       "   'start_offset': 42,\n",
       "   'token': 'avoir',\n",
       "   'type': '<ALPHANUM>'},\n",
       "  {'end_offset': 51,\n",
       "   'position': 10,\n",
       "   'start_offset': 48,\n",
       "   'token': 'une',\n",
       "   'type': '<ALPHANUM>'},\n",
       "  {'end_offset': 56,\n",
       "   'position': 11,\n",
       "   'start_offset': 52,\n",
       "   'token': 'sale',\n",
       "   'type': '<ALPHANUM>'},\n",
       "  {'end_offset': 61,\n",
       "   'position': 12,\n",
       "   'start_offset': 57,\n",
       "   'token': 'note',\n",
       "   'type': '<ALPHANUM>'},\n",
       "  {'end_offset': 64,\n",
       "   'position': 13,\n",
       "   'start_offset': 62,\n",
       "   'token': '_triste_',\n",
       "   'type': '<ALPHANUM>'}]}"
      ]
     },
     "execution_count": 29,
     "metadata": {},
     "output_type": "execute_result"
    }
   ],
   "source": []
  },
  {
   "cell_type": "code",
   "execution_count": null,
   "metadata": {},
   "outputs": [],
   "source": []
  },
  {
   "cell_type": "code",
   "execution_count": null,
   "metadata": {},
   "outputs": [],
   "source": []
  },
  {
   "cell_type": "code",
   "execution_count": null,
   "metadata": {},
   "outputs": [],
   "source": []
  }
 ],
 "metadata": {
  "kernelspec": {
   "display_name": "Python 3",
   "language": "python",
   "name": "python3"
  },
  "language_info": {
   "codemirror_mode": {
    "name": "ipython",
    "version": 3
   },
   "file_extension": ".py",
   "mimetype": "text/x-python",
   "name": "python",
   "nbconvert_exporter": "python",
   "pygments_lexer": "ipython3",
   "version": "3.6.9"
  },
  "latex_envs": {
   "LaTeX_envs_menu_present": true,
   "autoclose": false,
   "autocomplete": true,
   "bibliofile": "biblio.bib",
   "cite_by": "apalike",
   "current_citInitial": 1,
   "eqLabelWithNumbers": true,
   "eqNumInitial": 1,
   "hotkeys": {
    "equation": "Ctrl-E",
    "itemize": "Ctrl-I"
   },
   "labels_anchors": false,
   "latex_user_defs": false,
   "report_style_numbering": false,
   "user_envs_cfg": false
  },
  "toc": {
   "base_numbering": 1,
   "nav_menu": {},
   "number_sections": true,
   "sideBar": true,
   "skip_h1_title": false,
   "title_cell": "Table of Contents",
   "title_sidebar": "Contents",
   "toc_cell": false,
   "toc_position": {
    "height": "calc(100% - 180px)",
    "left": "10px",
    "top": "150px",
    "width": "316.04620361328125px"
   },
   "toc_section_display": true,
   "toc_window_display": true
  },
  "varInspector": {
   "cols": {
    "lenName": 16,
    "lenType": 16,
    "lenVar": 40
   },
   "kernels_config": {
    "python": {
     "delete_cmd_postfix": "",
     "delete_cmd_prefix": "del ",
     "library": "var_list.py",
     "varRefreshCmd": "print(var_dic_list())"
    },
    "r": {
     "delete_cmd_postfix": ") ",
     "delete_cmd_prefix": "rm(",
     "library": "var_list.r",
     "varRefreshCmd": "cat(var_dic_list()) "
    }
   },
   "types_to_exclude": [
    "module",
    "function",
    "builtin_function_or_method",
    "instance",
    "_Feature"
   ],
   "window_display": false
  }
 },
 "nbformat": 4,
 "nbformat_minor": 4
}
