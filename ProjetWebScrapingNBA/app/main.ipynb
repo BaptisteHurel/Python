{
 "cells": [
  {
   "cell_type": "code",
   "execution_count": null,
   "source": [
    "#Import librairies\n",
    "from datetime import datetime\n",
    "from bs4 import BeautifulSoup # pour scraper les données\n",
    "from models.Stats import Stats # Import classe Stats\n",
    "import requests # code source de la page web\n",
    "import pandas as pd\n",
    "import matplotlib.pyplot as plot\n",
    "import argparse\n",
    "import time"
   ],
   "outputs": [],
   "metadata": {}
  },
  {
   "cell_type": "code",
   "execution_count": null,
   "source": [
    "# Recupération du code source et placement dans une variable 'request_text'\n",
    "url = \"https://fr.wikipedia.org/wiki/Liste_des_meilleurs_marqueurs_en_NBA_par_saison\"\n",
    "request_text = requests.get(url)\n",
    "\n",
    "# Instantiation de BeautifulSoup \n",
    "soup = BeautifulSoup(request_text.content, 'html.parser')"
   ],
   "outputs": [],
   "metadata": {}
  },
  {
   "cell_type": "code",
   "execution_count": null,
   "source": [
    "#Trouve les données et les sauvegardes dans une liste 'stats'\n",
    "stats = soup.find('div',class_= 'wikitable sortable jquery-tablesorter').find_all(\"div\", class_=\"mw-redirect\")\n",
    "print(stats)"
   ],
   "outputs": [],
   "metadata": {}
  },
  {
   "cell_type": "code",
   "execution_count": null,
   "source": [
    "df = pd.DataFrame(columns=[\"player\", \"season\", \"nb_point\"])\n",
    "print(df)"
   ],
   "outputs": [],
   "metadata": {}
  },
  {
   "cell_type": "code",
   "execution_count": null,
   "source": [
    "for stat in stats:\n",
    "    if stat.find(\"a\"):\n",
    "        url = stat.find(\"title\").get(\"data-src\")\n",
    "        str_nb_point = str.split(stat.find(\"td\").getText(),\"(\")\n",
    "        nb_point = int(str.split(str_nb_point[1],\" \"[0]))\n",
    "        player = stat.find(\"a\").getText()[1]\n",
    "        season = stat.find(\"a\").getText()[0]\n",
    "        df = df.append(Stats.to_dict(player=player, season=season, nb_point=nb_point), ignore_index=True)"
   ],
   "outputs": [],
   "metadata": {}
  },
  {
   "cell_type": "code",
   "execution_count": null,
   "source": [
    "#Récupere chaque saison et son nombre de points associés\n",
    "def getRank(df : pd.DataFrame, x):\n",
    "    df = df.head(x)\n",
    "    df = df.sort_values(by=[\"nb_point\"], ascending=True)\n",
    "    plot.savefig(f\"results/rank_{datetime.now.isoformat()}.png\", bbox_inches=\"tight\")\n",
    "    print(df.to_dict)"
   ],
   "outputs": [],
   "metadata": {}
  },
  {
   "cell_type": "code",
   "execution_count": null,
   "source": [
    "df.head()"
   ],
   "outputs": [],
   "metadata": {}
  },
  {
   "cell_type": "code",
   "execution_count": null,
   "source": [
    "df = df.sort_values(by=['nb_point'], ascending=False)"
   ],
   "outputs": [],
   "metadata": {}
  },
  {
   "cell_type": "code",
   "execution_count": null,
   "source": [
    "#Affichage sous forme de graphique du nombre de point en fonction de la saison\n",
    "df.plot.bar(x=\"season\", y=\"nb_point\", rot=80, title=\"Meilleurs marqueurs de NBA par saison\")\n",
    "plot.show(block=True)"
   ],
   "outputs": [],
   "metadata": {}
  },
  {
   "cell_type": "code",
   "execution_count": null,
   "source": [
    "#Sauvegarde du résultat sous forme de png\n",
    "plot.savefig(f\"results/rank_{datetime.now.isoformat()}.png\", bbox_inches=\"tight\")\n"
   ],
   "outputs": [],
   "metadata": {}
  }
 ],
 "metadata": {
  "orig_nbformat": 4,
  "language_info": {
   "name": "python"
  }
 },
 "nbformat": 4,
 "nbformat_minor": 2
}